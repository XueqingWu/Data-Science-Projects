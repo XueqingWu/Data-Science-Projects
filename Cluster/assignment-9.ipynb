{
 "cells": [
  {
   "cell_type": "code",
   "execution_count": 1,
   "metadata": {
    "_cell_guid": "b1076dfc-b9ad-4769-8c92-a6c4dae69d19",
    "_uuid": "8f2839f25d086af736a60e9eeb907d3b93b6e0e5",
    "execution": {
     "iopub.execute_input": "2021-03-23T03:53:06.749318Z",
     "iopub.status.busy": "2021-03-23T03:53:06.748588Z",
     "iopub.status.idle": "2021-03-23T03:53:06.764242Z",
     "shell.execute_reply": "2021-03-23T03:53:06.764966Z"
    },
    "papermill": {
     "duration": 0.057545,
     "end_time": "2021-03-23T03:53:06.765410",
     "exception": false,
     "start_time": "2021-03-23T03:53:06.707865",
     "status": "completed"
    },
    "tags": []
   },
   "outputs": [
    {
     "name": "stdout",
     "output_type": "stream",
     "text": [
      "/kaggle/input/mall-customer/Mall_Customers.csv\n"
     ]
    }
   ],
   "source": [
    "# This Python 3 environment comes with many helpful analytics libraries installed\n",
    "# It is defined by the kaggle/python Docker image: https://github.com/kaggle/docker-python\n",
    "# For example, here's several helpful packages to load\n",
    "\n",
    "import numpy as np # linear algebra\n",
    "import pandas as pd # data processing, CSV file I/O (e.g. pd.read_csv)\n",
    "\n",
    "# Input data files are available in the read-only \"../input/\" directory\n",
    "# For example, running this (by clicking run or pressing Shift+Enter) will list all files under the input directory\n",
    "\n",
    "import os\n",
    "for dirname, _, filenames in os.walk('/kaggle/input'):\n",
    "    for filename in filenames:\n",
    "        print(os.path.join(dirname, filename))\n",
    "\n",
    "# You can write up to 20GB to the current directory (/kaggle/working/) that gets preserved as output when you create a version using \"Save & Run All\" \n",
    "# You can also write temporary files to /kaggle/temp/, but they won't be saved outside of the current session"
   ]
  },
  {
   "cell_type": "markdown",
   "metadata": {
    "papermill": {
     "duration": 0.033611,
     "end_time": "2021-03-23T03:53:06.835096",
     "exception": false,
     "start_time": "2021-03-23T03:53:06.801485",
     "status": "completed"
    },
    "tags": []
   },
   "source": [
    "# Import Packages"
   ]
  },
  {
   "cell_type": "code",
   "execution_count": 2,
   "metadata": {
    "execution": {
     "iopub.execute_input": "2021-03-23T03:53:06.909452Z",
     "iopub.status.busy": "2021-03-23T03:53:06.908496Z",
     "iopub.status.idle": "2021-03-23T03:53:06.914260Z",
     "shell.execute_reply": "2021-03-23T03:53:06.913658Z"
    },
    "papermill": {
     "duration": 0.045733,
     "end_time": "2021-03-23T03:53:06.914440",
     "exception": false,
     "start_time": "2021-03-23T03:53:06.868707",
     "status": "completed"
    },
    "tags": []
   },
   "outputs": [],
   "source": [
    "import pandas as pd"
   ]
  },
  {
   "cell_type": "code",
   "execution_count": 3,
   "metadata": {
    "execution": {
     "iopub.execute_input": "2021-03-23T03:53:06.991141Z",
     "iopub.status.busy": "2021-03-23T03:53:06.990263Z",
     "iopub.status.idle": "2021-03-23T03:53:07.996983Z",
     "shell.execute_reply": "2021-03-23T03:53:07.996256Z"
    },
    "papermill": {
     "duration": 1.047263,
     "end_time": "2021-03-23T03:53:07.997167",
     "exception": false,
     "start_time": "2021-03-23T03:53:06.949904",
     "status": "completed"
    },
    "tags": []
   },
   "outputs": [],
   "source": [
    "import matplotlib.pyplot as plt\n",
    "import seaborn as sns"
   ]
  },
  {
   "cell_type": "markdown",
   "metadata": {
    "papermill": {
     "duration": 0.034061,
     "end_time": "2021-03-23T03:53:08.065936",
     "exception": false,
     "start_time": "2021-03-23T03:53:08.031875",
     "status": "completed"
    },
    "tags": []
   },
   "source": [
    "# <font color='blue'> 1. Read the dataset and get insights into your data (dataset is attached to this page)"
   ]
  },
  {
   "cell_type": "code",
   "execution_count": 4,
   "metadata": {
    "execution": {
     "iopub.execute_input": "2021-03-23T03:53:08.139827Z",
     "iopub.status.busy": "2021-03-23T03:53:08.138996Z",
     "iopub.status.idle": "2021-03-23T03:53:08.159868Z",
     "shell.execute_reply": "2021-03-23T03:53:08.159275Z"
    },
    "papermill": {
     "duration": 0.058853,
     "end_time": "2021-03-23T03:53:08.160078",
     "exception": false,
     "start_time": "2021-03-23T03:53:08.101225",
     "status": "completed"
    },
    "tags": []
   },
   "outputs": [],
   "source": [
    "Customer=pd.read_csv('../input/mall-customer/Mall_Customers.csv')"
   ]
  },
  {
   "cell_type": "code",
   "execution_count": 5,
   "metadata": {
    "execution": {
     "iopub.execute_input": "2021-03-23T03:53:08.250565Z",
     "iopub.status.busy": "2021-03-23T03:53:08.241609Z",
     "iopub.status.idle": "2021-03-23T03:53:08.272499Z",
     "shell.execute_reply": "2021-03-23T03:53:08.271889Z"
    },
    "papermill": {
     "duration": 0.077584,
     "end_time": "2021-03-23T03:53:08.272672",
     "exception": false,
     "start_time": "2021-03-23T03:53:08.195088",
     "status": "completed"
    },
    "tags": []
   },
   "outputs": [
    {
     "data": {
      "text/html": [
       "<div>\n",
       "<style scoped>\n",
       "    .dataframe tbody tr th:only-of-type {\n",
       "        vertical-align: middle;\n",
       "    }\n",
       "\n",
       "    .dataframe tbody tr th {\n",
       "        vertical-align: top;\n",
       "    }\n",
       "\n",
       "    .dataframe thead th {\n",
       "        text-align: right;\n",
       "    }\n",
       "</style>\n",
       "<table border=\"1\" class=\"dataframe\">\n",
       "  <thead>\n",
       "    <tr style=\"text-align: right;\">\n",
       "      <th></th>\n",
       "      <th>CustomerID</th>\n",
       "      <th>Gender</th>\n",
       "      <th>Age</th>\n",
       "      <th>Annual Income (k$)</th>\n",
       "      <th>Spending Score (1-100)</th>\n",
       "    </tr>\n",
       "  </thead>\n",
       "  <tbody>\n",
       "    <tr>\n",
       "      <th>0</th>\n",
       "      <td>1</td>\n",
       "      <td>Male</td>\n",
       "      <td>19</td>\n",
       "      <td>15</td>\n",
       "      <td>39</td>\n",
       "    </tr>\n",
       "    <tr>\n",
       "      <th>1</th>\n",
       "      <td>2</td>\n",
       "      <td>Male</td>\n",
       "      <td>21</td>\n",
       "      <td>15</td>\n",
       "      <td>81</td>\n",
       "    </tr>\n",
       "    <tr>\n",
       "      <th>2</th>\n",
       "      <td>3</td>\n",
       "      <td>Female</td>\n",
       "      <td>20</td>\n",
       "      <td>16</td>\n",
       "      <td>6</td>\n",
       "    </tr>\n",
       "    <tr>\n",
       "      <th>3</th>\n",
       "      <td>4</td>\n",
       "      <td>Female</td>\n",
       "      <td>23</td>\n",
       "      <td>16</td>\n",
       "      <td>77</td>\n",
       "    </tr>\n",
       "    <tr>\n",
       "      <th>4</th>\n",
       "      <td>5</td>\n",
       "      <td>Female</td>\n",
       "      <td>31</td>\n",
       "      <td>17</td>\n",
       "      <td>40</td>\n",
       "    </tr>\n",
       "    <tr>\n",
       "      <th>...</th>\n",
       "      <td>...</td>\n",
       "      <td>...</td>\n",
       "      <td>...</td>\n",
       "      <td>...</td>\n",
       "      <td>...</td>\n",
       "    </tr>\n",
       "    <tr>\n",
       "      <th>195</th>\n",
       "      <td>196</td>\n",
       "      <td>Female</td>\n",
       "      <td>35</td>\n",
       "      <td>120</td>\n",
       "      <td>79</td>\n",
       "    </tr>\n",
       "    <tr>\n",
       "      <th>196</th>\n",
       "      <td>197</td>\n",
       "      <td>Female</td>\n",
       "      <td>45</td>\n",
       "      <td>126</td>\n",
       "      <td>28</td>\n",
       "    </tr>\n",
       "    <tr>\n",
       "      <th>197</th>\n",
       "      <td>198</td>\n",
       "      <td>Male</td>\n",
       "      <td>32</td>\n",
       "      <td>126</td>\n",
       "      <td>74</td>\n",
       "    </tr>\n",
       "    <tr>\n",
       "      <th>198</th>\n",
       "      <td>199</td>\n",
       "      <td>Male</td>\n",
       "      <td>32</td>\n",
       "      <td>137</td>\n",
       "      <td>18</td>\n",
       "    </tr>\n",
       "    <tr>\n",
       "      <th>199</th>\n",
       "      <td>200</td>\n",
       "      <td>Male</td>\n",
       "      <td>30</td>\n",
       "      <td>137</td>\n",
       "      <td>83</td>\n",
       "    </tr>\n",
       "  </tbody>\n",
       "</table>\n",
       "<p>200 rows × 5 columns</p>\n",
       "</div>"
      ],
      "text/plain": [
       "     CustomerID  Gender  Age  Annual Income (k$)  Spending Score (1-100)\n",
       "0             1    Male   19                  15                      39\n",
       "1             2    Male   21                  15                      81\n",
       "2             3  Female   20                  16                       6\n",
       "3             4  Female   23                  16                      77\n",
       "4             5  Female   31                  17                      40\n",
       "..          ...     ...  ...                 ...                     ...\n",
       "195         196  Female   35                 120                      79\n",
       "196         197  Female   45                 126                      28\n",
       "197         198    Male   32                 126                      74\n",
       "198         199    Male   32                 137                      18\n",
       "199         200    Male   30                 137                      83\n",
       "\n",
       "[200 rows x 5 columns]"
      ]
     },
     "execution_count": 5,
     "metadata": {},
     "output_type": "execute_result"
    }
   ],
   "source": [
    "Customer"
   ]
  },
  {
   "cell_type": "code",
   "execution_count": 6,
   "metadata": {
    "execution": {
     "iopub.execute_input": "2021-03-23T03:53:08.350663Z",
     "iopub.status.busy": "2021-03-23T03:53:08.349683Z",
     "iopub.status.idle": "2021-03-23T03:53:08.354770Z",
     "shell.execute_reply": "2021-03-23T03:53:08.354244Z"
    },
    "papermill": {
     "duration": 0.046613,
     "end_time": "2021-03-23T03:53:08.354966",
     "exception": false,
     "start_time": "2021-03-23T03:53:08.308353",
     "status": "completed"
    },
    "tags": []
   },
   "outputs": [
    {
     "data": {
      "text/plain": [
       "(200, 5)"
      ]
     },
     "execution_count": 6,
     "metadata": {},
     "output_type": "execute_result"
    }
   ],
   "source": [
    "Customer.shape"
   ]
  },
  {
   "cell_type": "code",
   "execution_count": 7,
   "metadata": {
    "execution": {
     "iopub.execute_input": "2021-03-23T03:53:08.431294Z",
     "iopub.status.busy": "2021-03-23T03:53:08.430535Z",
     "iopub.status.idle": "2021-03-23T03:53:08.438027Z",
     "shell.execute_reply": "2021-03-23T03:53:08.438530Z"
    },
    "papermill": {
     "duration": 0.047124,
     "end_time": "2021-03-23T03:53:08.438752",
     "exception": false,
     "start_time": "2021-03-23T03:53:08.391628",
     "status": "completed"
    },
    "tags": []
   },
   "outputs": [
    {
     "data": {
      "text/plain": [
       "CustomerID                 int64\n",
       "Gender                    object\n",
       "Age                        int64\n",
       "Annual Income (k$)         int64\n",
       "Spending Score (1-100)     int64\n",
       "dtype: object"
      ]
     },
     "execution_count": 7,
     "metadata": {},
     "output_type": "execute_result"
    }
   ],
   "source": [
    "Customer.dtypes"
   ]
  },
  {
   "cell_type": "markdown",
   "metadata": {
    "papermill": {
     "duration": 0.037465,
     "end_time": "2021-03-23T03:53:08.513610",
     "exception": false,
     "start_time": "2021-03-23T03:53:08.476145",
     "status": "completed"
    },
    "tags": []
   },
   "source": [
    "# <font color='blue'> 2. Perform bi-variate data visualization using box plots for the following and explain your inference for each plot"
   ]
  },
  {
   "cell_type": "markdown",
   "metadata": {
    "papermill": {
     "duration": 0.035223,
     "end_time": "2021-03-23T03:53:08.584868",
     "exception": false,
     "start_time": "2021-03-23T03:53:08.549645",
     "status": "completed"
    },
    "tags": []
   },
   "source": [
    "## <font color='blue'> a. Gender vs Spending Score"
   ]
  },
  {
   "cell_type": "code",
   "execution_count": 8,
   "metadata": {
    "execution": {
     "iopub.execute_input": "2021-03-23T03:53:08.664681Z",
     "iopub.status.busy": "2021-03-23T03:53:08.663981Z",
     "iopub.status.idle": "2021-03-23T03:53:08.863457Z",
     "shell.execute_reply": "2021-03-23T03:53:08.862719Z"
    },
    "papermill": {
     "duration": 0.242066,
     "end_time": "2021-03-23T03:53:08.863623",
     "exception": false,
     "start_time": "2021-03-23T03:53:08.621557",
     "status": "completed"
    },
    "tags": []
   },
   "outputs": [
    {
     "name": "stderr",
     "output_type": "stream",
     "text": [
      "/opt/conda/lib/python3.7/site-packages/seaborn/_decorators.py:43: FutureWarning: Pass the following variables as keyword args: x, y. From version 0.12, the only valid positional argument will be `data`, and passing other arguments without an explicit keyword will result in an error or misinterpretation.\n",
      "  FutureWarning\n"
     ]
    },
    {
     "data": {
      "text/plain": [
       "<AxesSubplot:xlabel='Gender', ylabel='Spending Score (1-100)'>"
      ]
     },
     "execution_count": 8,
     "metadata": {},
     "output_type": "execute_result"
    },
    {
     "data": {
      "image/png": "[encoded data removed]",
      "text/plain": [
       "<Figure size 720x720 with 1 Axes>"
      ]
     },
     "metadata": {
      "needs_background": "light"
     },
     "output_type": "display_data"
    }
   ],
   "source": [
    "plt.figure(figsize=(10, 10))\n",
    "sns.boxplot('Gender', 'Spending Score (1-100)', data=Customer)"
   ]
  },
  {
   "cell_type": "markdown",
   "metadata": {
    "papermill": {
     "duration": 0.037404,
     "end_time": "2021-03-23T03:53:08.938506",
     "exception": false,
     "start_time": "2021-03-23T03:53:08.901102",
     "status": "completed"
    },
    "tags": []
   },
   "source": [
    "Females have relatively higher range of spending score."
   ]
  },
  {
   "cell_type": "markdown",
   "metadata": {
    "papermill": {
     "duration": 0.036808,
     "end_time": "2021-03-23T03:53:09.012436",
     "exception": false,
     "start_time": "2021-03-23T03:53:08.975628",
     "status": "completed"
    },
    "tags": []
   },
   "source": [
    "## <font color='blue'> b. Gender vs Annual Income"
   ]
  },
  {
   "cell_type": "code",
   "execution_count": 9,
   "metadata": {
    "execution": {
     "iopub.execute_input": "2021-03-23T03:53:09.105181Z",
     "iopub.status.busy": "2021-03-23T03:53:09.099122Z",
     "iopub.status.idle": "2021-03-23T03:53:09.276682Z",
     "shell.execute_reply": "2021-03-23T03:53:09.276055Z"
    },
    "papermill": {
     "duration": 0.225593,
     "end_time": "2021-03-23T03:53:09.276845",
     "exception": false,
     "start_time": "2021-03-23T03:53:09.051252",
     "status": "completed"
    },
    "tags": []
   },
   "outputs": [
    {
     "name": "stderr",
     "output_type": "stream",
     "text": [
      "/opt/conda/lib/python3.7/site-packages/seaborn/_decorators.py:43: FutureWarning: Pass the following variables as keyword args: x, y. From version 0.12, the only valid positional argument will be `data`, and passing other arguments without an explicit keyword will result in an error or misinterpretation.\n",
      "  FutureWarning\n"
     ]
    },
    {
     "data": {
      "text/plain": [
       "<AxesSubplot:xlabel='Gender', ylabel='Annual Income (k$)'>"
      ]
     },
     "execution_count": 9,
     "metadata": {},
     "output_type": "execute_result"
    },
    {
     "data": {
      "image/png": "[encoded data removed]",
      "text/plain": [
       "<Figure size 720x720 with 1 Axes>"
      ]
     },
     "metadata": {
      "needs_background": "light"
     },
     "output_type": "display_data"
    }
   ],
   "source": [
    "plt.figure(figsize=(10, 10))\n",
    "sns.boxplot('Gender', 'Annual Income (k$)', data=Customer)"
   ]
  },
  {
   "cell_type": "markdown",
   "metadata": {
    "papermill": {
     "duration": 0.03797,
     "end_time": "2021-03-23T03:53:09.353464",
     "exception": false,
     "start_time": "2021-03-23T03:53:09.315494",
     "status": "completed"
    },
    "tags": []
   },
   "source": [
    "The IQR of male are more centered, with an high outlier. The IQR of females are relatively lower than males."
   ]
  },
  {
   "cell_type": "markdown",
   "metadata": {
    "papermill": {
     "duration": 0.037943,
     "end_time": "2021-03-23T03:53:09.429815",
     "exception": false,
     "start_time": "2021-03-23T03:53:09.391872",
     "status": "completed"
    },
    "tags": []
   },
   "source": [
    "## <font color='blue'> c. Gender vs Age"
   ]
  },
  {
   "cell_type": "code",
   "execution_count": 10,
   "metadata": {
    "execution": {
     "iopub.execute_input": "2021-03-23T03:53:09.619705Z",
     "iopub.status.busy": "2021-03-23T03:53:09.517072Z",
     "iopub.status.idle": "2021-03-23T03:53:09.779673Z",
     "shell.execute_reply": "2021-03-23T03:53:09.778802Z"
    },
    "papermill": {
     "duration": 0.311712,
     "end_time": "2021-03-23T03:53:09.779855",
     "exception": false,
     "start_time": "2021-03-23T03:53:09.468143",
     "status": "completed"
    },
    "tags": []
   },
   "outputs": [
    {
     "name": "stderr",
     "output_type": "stream",
     "text": [
      "/opt/conda/lib/python3.7/site-packages/seaborn/_decorators.py:43: FutureWarning: Pass the following variables as keyword args: x, y. From version 0.12, the only valid positional argument will be `data`, and passing other arguments without an explicit keyword will result in an error or misinterpretation.\n",
      "  FutureWarning\n"
     ]
    },
    {
     "data": {
      "text/plain": [
       "<AxesSubplot:xlabel='Gender', ylabel='Age'>"
      ]
     },
     "execution_count": 10,
     "metadata": {},
     "output_type": "execute_result"
    },
    {
     "data": {
      "image/png": "[encoded data removed]",
      "text/plain": [
       "<Figure size 720x720 with 1 Axes>"
      ]
     },
     "metadata": {
      "needs_background": "light"
     },
     "output_type": "display_data"
    }
   ],
   "source": [
    "plt.figure(figsize=(10, 10))\n",
    "sns.boxplot('Gender', 'Age', data=Customer)"
   ]
  },
  {
   "cell_type": "markdown",
   "metadata": {
    "papermill": {
     "duration": 0.041857,
     "end_time": "2021-03-23T03:53:09.862738",
     "exception": false,
     "start_time": "2021-03-23T03:53:09.820881",
     "status": "completed"
    },
    "tags": []
   },
   "source": [
    "The centered age of femals are relatively lower than male. The range of females' range is relatively lower than males'."
   ]
  },
  {
   "cell_type": "markdown",
   "metadata": {
    "papermill": {
     "duration": 0.041976,
     "end_time": "2021-03-23T03:53:09.945538",
     "exception": false,
     "start_time": "2021-03-23T03:53:09.903562",
     "status": "completed"
    },
    "tags": []
   },
   "source": [
    "# <font color='blue'> 3. Use a correlation matrix to identify the correlations between different features, what do you infer from this correlation matrix?"
   ]
  },
  {
   "cell_type": "code",
   "execution_count": 11,
   "metadata": {
    "execution": {
     "iopub.execute_input": "2021-03-23T03:53:10.034715Z",
     "iopub.status.busy": "2021-03-23T03:53:10.033651Z",
     "iopub.status.idle": "2021-03-23T03:53:10.037020Z",
     "shell.execute_reply": "2021-03-23T03:53:10.036347Z"
    },
    "papermill": {
     "duration": 0.050674,
     "end_time": "2021-03-23T03:53:10.037209",
     "exception": false,
     "start_time": "2021-03-23T03:53:09.986535",
     "status": "completed"
    },
    "tags": []
   },
   "outputs": [],
   "source": [
    "Customer.drop('CustomerID', axis=1, inplace=True)"
   ]
  },
  {
   "cell_type": "code",
   "execution_count": 12,
   "metadata": {
    "execution": {
     "iopub.execute_input": "2021-03-23T03:53:10.134987Z",
     "iopub.status.busy": "2021-03-23T03:53:10.134295Z",
     "iopub.status.idle": "2021-03-23T03:53:10.138017Z",
     "shell.execute_reply": "2021-03-23T03:53:10.138614Z"
    },
    "papermill": {
     "duration": 0.059452,
     "end_time": "2021-03-23T03:53:10.138886",
     "exception": false,
     "start_time": "2021-03-23T03:53:10.079434",
     "status": "completed"
    },
    "tags": []
   },
   "outputs": [
    {
     "data": {
      "text/html": [
       "<div>\n",
       "<style scoped>\n",
       "    .dataframe tbody tr th:only-of-type {\n",
       "        vertical-align: middle;\n",
       "    }\n",
       "\n",
       "    .dataframe tbody tr th {\n",
       "        vertical-align: top;\n",
       "    }\n",
       "\n",
       "    .dataframe thead th {\n",
       "        text-align: right;\n",
       "    }\n",
       "</style>\n",
       "<table border=\"1\" class=\"dataframe\">\n",
       "  <thead>\n",
       "    <tr style=\"text-align: right;\">\n",
       "      <th></th>\n",
       "      <th>Gender</th>\n",
       "      <th>Age</th>\n",
       "      <th>Annual Income (k$)</th>\n",
       "      <th>Spending Score (1-100)</th>\n",
       "    </tr>\n",
       "  </thead>\n",
       "  <tbody>\n",
       "    <tr>\n",
       "      <th>0</th>\n",
       "      <td>Male</td>\n",
       "      <td>19</td>\n",
       "      <td>15</td>\n",
       "      <td>39</td>\n",
       "    </tr>\n",
       "    <tr>\n",
       "      <th>1</th>\n",
       "      <td>Male</td>\n",
       "      <td>21</td>\n",
       "      <td>15</td>\n",
       "      <td>81</td>\n",
       "    </tr>\n",
       "    <tr>\n",
       "      <th>2</th>\n",
       "      <td>Female</td>\n",
       "      <td>20</td>\n",
       "      <td>16</td>\n",
       "      <td>6</td>\n",
       "    </tr>\n",
       "    <tr>\n",
       "      <th>3</th>\n",
       "      <td>Female</td>\n",
       "      <td>23</td>\n",
       "      <td>16</td>\n",
       "      <td>77</td>\n",
       "    </tr>\n",
       "    <tr>\n",
       "      <th>4</th>\n",
       "      <td>Female</td>\n",
       "      <td>31</td>\n",
       "      <td>17</td>\n",
       "      <td>40</td>\n",
       "    </tr>\n",
       "    <tr>\n",
       "      <th>...</th>\n",
       "      <td>...</td>\n",
       "      <td>...</td>\n",
       "      <td>...</td>\n",
       "      <td>...</td>\n",
       "    </tr>\n",
       "    <tr>\n",
       "      <th>195</th>\n",
       "      <td>Female</td>\n",
       "      <td>35</td>\n",
       "      <td>120</td>\n",
       "      <td>79</td>\n",
       "    </tr>\n",
       "    <tr>\n",
       "      <th>196</th>\n",
       "      <td>Female</td>\n",
       "      <td>45</td>\n",
       "      <td>126</td>\n",
       "      <td>28</td>\n",
       "    </tr>\n",
       "    <tr>\n",
       "      <th>197</th>\n",
       "      <td>Male</td>\n",
       "      <td>32</td>\n",
       "      <td>126</td>\n",
       "      <td>74</td>\n",
       "    </tr>\n",
       "    <tr>\n",
       "      <th>198</th>\n",
       "      <td>Male</td>\n",
       "      <td>32</td>\n",
       "      <td>137</td>\n",
       "      <td>18</td>\n",
       "    </tr>\n",
       "    <tr>\n",
       "      <th>199</th>\n",
       "      <td>Male</td>\n",
       "      <td>30</td>\n",
       "      <td>137</td>\n",
       "      <td>83</td>\n",
       "    </tr>\n",
       "  </tbody>\n",
       "</table>\n",
       "<p>200 rows × 4 columns</p>\n",
       "</div>"
      ],
      "text/plain": [
       "     Gender  Age  Annual Income (k$)  Spending Score (1-100)\n",
       "0      Male   19                  15                      39\n",
       "1      Male   21                  15                      81\n",
       "2    Female   20                  16                       6\n",
       "3    Female   23                  16                      77\n",
       "4    Female   31                  17                      40\n",
       "..      ...  ...                 ...                     ...\n",
       "195  Female   35                 120                      79\n",
       "196  Female   45                 126                      28\n",
       "197    Male   32                 126                      74\n",
       "198    Male   32                 137                      18\n",
       "199    Male   30                 137                      83\n",
       "\n",
       "[200 rows x 4 columns]"
      ]
     },
     "execution_count": 12,
     "metadata": {},
     "output_type": "execute_result"
    }
   ],
   "source": [
    "Customer"
   ]
  },
  {
   "cell_type": "code",
   "execution_count": 13,
   "metadata": {
    "execution": {
     "iopub.execute_input": "2021-03-23T03:53:10.225159Z",
     "iopub.status.busy": "2021-03-23T03:53:10.224464Z",
     "iopub.status.idle": "2021-03-23T03:53:10.229550Z",
     "shell.execute_reply": "2021-03-23T03:53:10.230104Z"
    },
    "papermill": {
     "duration": 0.050283,
     "end_time": "2021-03-23T03:53:10.230286",
     "exception": false,
     "start_time": "2021-03-23T03:53:10.180003",
     "status": "completed"
    },
    "tags": []
   },
   "outputs": [],
   "source": [
    "CorrMatrix=Customer.corr()"
   ]
  },
  {
   "cell_type": "code",
   "execution_count": 14,
   "metadata": {
    "execution": {
     "iopub.execute_input": "2021-03-23T03:53:10.316021Z",
     "iopub.status.busy": "2021-03-23T03:53:10.315378Z",
     "iopub.status.idle": "2021-03-23T03:53:10.565221Z",
     "shell.execute_reply": "2021-03-23T03:53:10.564551Z"
    },
    "papermill": {
     "duration": 0.29404,
     "end_time": "2021-03-23T03:53:10.565389",
     "exception": false,
     "start_time": "2021-03-23T03:53:10.271349",
     "status": "completed"
    },
    "tags": []
   },
   "outputs": [
    {
     "data": {
      "text/plain": [
       "<AxesSubplot:>"
      ]
     },
     "execution_count": 14,
     "metadata": {},
     "output_type": "execute_result"
    },
    {
     "data": {
      "image/png": "[encoded data removed]",
      "text/plain": [
       "<Figure size 432x288 with 2 Axes>"
      ]
     },
     "metadata": {
      "needs_background": "light"
     },
     "output_type": "display_data"
    }
   ],
   "source": [
    "sns.heatmap(CorrMatrix,annot=True, cmap=plt.cm.Reds)"
   ]
  },
  {
   "cell_type": "markdown",
   "metadata": {
    "papermill": {
     "duration": 0.042133,
     "end_time": "2021-03-23T03:53:10.650473",
     "exception": false,
     "start_time": "2021-03-23T03:53:10.608340",
     "status": "completed"
    },
    "tags": []
   },
   "source": [
    "There is a negative correalation between age and spending score. The older the customer, the less s/he spends."
   ]
  },
  {
   "cell_type": "markdown",
   "metadata": {
    "papermill": {
     "duration": 0.041865,
     "end_time": "2021-03-23T03:53:10.734601",
     "exception": false,
     "start_time": "2021-03-23T03:53:10.692736",
     "status": "completed"
    },
    "tags": []
   },
   "source": [
    "# <font color='blue'> 4. Explain with visualization the % split between Male and Female"
   ]
  },
  {
   "cell_type": "code",
   "execution_count": 15,
   "metadata": {
    "execution": {
     "iopub.execute_input": "2021-03-23T03:53:10.848435Z",
     "iopub.status.busy": "2021-03-23T03:53:10.843155Z",
     "iopub.status.idle": "2021-03-23T03:53:10.947435Z",
     "shell.execute_reply": "2021-03-23T03:53:10.946735Z"
    },
    "papermill": {
     "duration": 0.170849,
     "end_time": "2021-03-23T03:53:10.947622",
     "exception": false,
     "start_time": "2021-03-23T03:53:10.776773",
     "status": "completed"
    },
    "tags": []
   },
   "outputs": [
    {
     "name": "stderr",
     "output_type": "stream",
     "text": [
      "/opt/conda/lib/python3.7/site-packages/seaborn/_decorators.py:43: FutureWarning: Pass the following variable as a keyword arg: x. From version 0.12, the only valid positional argument will be `data`, and passing other arguments without an explicit keyword will result in an error or misinterpretation.\n",
      "  FutureWarning\n"
     ]
    },
    {
     "data": {
      "text/plain": [
       "<AxesSubplot:xlabel='Gender', ylabel='count'>"
      ]
     },
     "execution_count": 15,
     "metadata": {},
     "output_type": "execute_result"
    },
    {
     "data": {
      "image/png": "[encoded data removed]",
      "text/plain": [
       "<Figure size 432x288 with 1 Axes>"
      ]
     },
     "metadata": {
      "needs_background": "light"
     },
     "output_type": "display_data"
    }
   ],
   "source": [
    "sns.countplot('Gender', data=Customer)"
   ]
  },
  {
   "cell_type": "code",
   "execution_count": 16,
   "metadata": {
    "execution": {
     "iopub.execute_input": "2021-03-23T03:53:11.046042Z",
     "iopub.status.busy": "2021-03-23T03:53:11.044912Z",
     "iopub.status.idle": "2021-03-23T03:53:11.050355Z",
     "shell.execute_reply": "2021-03-23T03:53:11.050824Z"
    },
    "papermill": {
     "duration": 0.057493,
     "end_time": "2021-03-23T03:53:11.051047",
     "exception": false,
     "start_time": "2021-03-23T03:53:10.993554",
     "status": "completed"
    },
    "tags": []
   },
   "outputs": [
    {
     "data": {
      "text/plain": [
       "0.56"
      ]
     },
     "execution_count": 16,
     "metadata": {},
     "output_type": "execute_result"
    }
   ],
   "source": [
    "len(Customer[Customer['Gender']=='Female'])/len(Customer)"
   ]
  },
  {
   "cell_type": "markdown",
   "metadata": {
    "papermill": {
     "duration": 0.044131,
     "end_time": "2021-03-23T03:53:11.139400",
     "exception": false,
     "start_time": "2021-03-23T03:53:11.095269",
     "status": "completed"
    },
    "tags": []
   },
   "source": [
    "56% of the customers are female, which is slighly more than male customers. "
   ]
  },
  {
   "cell_type": "markdown",
   "metadata": {
    "papermill": {
     "duration": 0.043725,
     "end_time": "2021-03-23T03:53:11.227106",
     "exception": false,
     "start_time": "2021-03-23T03:53:11.183381",
     "status": "completed"
    },
    "tags": []
   },
   "source": [
    "# <font color='blue'> 5. Explain your inference with visualization for frequency of visitors of the mall in terms of"
   ]
  },
  {
   "cell_type": "markdown",
   "metadata": {
    "papermill": {
     "duration": 0.043748,
     "end_time": "2021-03-23T03:53:11.314841",
     "exception": false,
     "start_time": "2021-03-23T03:53:11.271093",
     "status": "completed"
    },
    "tags": []
   },
   "source": [
    "## <font color='blue'> a. Age"
   ]
  },
  {
   "cell_type": "code",
   "execution_count": 17,
   "metadata": {
    "execution": {
     "iopub.execute_input": "2021-03-23T03:53:11.428470Z",
     "iopub.status.busy": "2021-03-23T03:53:11.423085Z",
     "iopub.status.idle": "2021-03-23T03:53:11.567466Z",
     "shell.execute_reply": "2021-03-23T03:53:11.566781Z"
    },
    "papermill": {
     "duration": 0.208826,
     "end_time": "2021-03-23T03:53:11.567651",
     "exception": false,
     "start_time": "2021-03-23T03:53:11.358825",
     "status": "completed"
    },
    "tags": []
   },
   "outputs": [
    {
     "data": {
      "text/plain": [
       "(array([31., 19., 34., 29., 16., 26., 15., 10.,  6., 14.]),\n",
       " array([18. , 23.2, 28.4, 33.6, 38.8, 44. , 49.2, 54.4, 59.6, 64.8, 70. ]),\n",
       " <BarContainer object of 10 artists>)"
      ]
     },
     "execution_count": 17,
     "metadata": {},
     "output_type": "execute_result"
    },
    {
     "data": {
      "image/png": "[encoded data removed]",
      "text/plain": [
       "<Figure size 432x288 with 1 Axes>"
      ]
     },
     "metadata": {
      "needs_background": "light"
     },
     "output_type": "display_data"
    }
   ],
   "source": [
    "plt.hist('Age', data=Customer, color='blue')"
   ]
  },
  {
   "cell_type": "markdown",
   "metadata": {
    "papermill": {
     "duration": 0.045745,
     "end_time": "2021-03-23T03:53:11.660821",
     "exception": false,
     "start_time": "2021-03-23T03:53:11.615076",
     "status": "completed"
    },
    "tags": []
   },
   "source": [
    "The major age of customers are between 30 to 40, as well as early 20s."
   ]
  },
  {
   "cell_type": "markdown",
   "metadata": {
    "papermill": {
     "duration": 0.045816,
     "end_time": "2021-03-23T03:53:11.752918",
     "exception": false,
     "start_time": "2021-03-23T03:53:11.707102",
     "status": "completed"
    },
    "tags": []
   },
   "source": [
    "## <font color='blue'> b. Annual Income"
   ]
  },
  {
   "cell_type": "code",
   "execution_count": 18,
   "metadata": {
    "execution": {
     "iopub.execute_input": "2021-03-23T03:53:11.869360Z",
     "iopub.status.busy": "2021-03-23T03:53:11.868103Z",
     "iopub.status.idle": "2021-03-23T03:53:12.021285Z",
     "shell.execute_reply": "2021-03-23T03:53:12.021792Z"
    },
    "papermill": {
     "duration": 0.223153,
     "end_time": "2021-03-23T03:53:12.022035",
     "exception": false,
     "start_time": "2021-03-23T03:53:11.798882",
     "status": "completed"
    },
    "tags": []
   },
   "outputs": [
    {
     "data": {
      "text/plain": [
       "(array([24., 22., 28., 38., 30., 36.,  8.,  6.,  4.,  4.]),\n",
       " array([ 15. ,  27.2,  39.4,  51.6,  63.8,  76. ,  88.2, 100.4, 112.6,\n",
       "        124.8, 137. ]),\n",
       " <BarContainer object of 10 artists>)"
      ]
     },
     "execution_count": 18,
     "metadata": {},
     "output_type": "execute_result"
    },
    {
     "data": {
      "image/png": "[encoded data removed]",
      "text/plain": [
       "<Figure size 432x288 with 1 Axes>"
      ]
     },
     "metadata": {
      "needs_background": "light"
     },
     "output_type": "display_data"
    }
   ],
   "source": [
    "plt.hist('Annual Income (k$)', data=Customer, color='blue')"
   ]
  },
  {
   "cell_type": "markdown",
   "metadata": {
    "papermill": {
     "duration": 0.046576,
     "end_time": "2021-03-23T03:53:12.116850",
     "exception": false,
     "start_time": "2021-03-23T03:53:12.070274",
     "status": "completed"
    },
    "tags": []
   },
   "source": [
    "The annual income is mainly between 40k$ to 85k$."
   ]
  },
  {
   "cell_type": "markdown",
   "metadata": {
    "papermill": {
     "duration": 0.046852,
     "end_time": "2021-03-23T03:53:12.211174",
     "exception": false,
     "start_time": "2021-03-23T03:53:12.164322",
     "status": "completed"
    },
    "tags": []
   },
   "source": [
    "## <font color='blue'> c. Spending Score"
   ]
  },
  {
   "cell_type": "code",
   "execution_count": 19,
   "metadata": {
    "execution": {
     "iopub.execute_input": "2021-03-23T03:53:12.310373Z",
     "iopub.status.busy": "2021-03-23T03:53:12.309263Z",
     "iopub.status.idle": "2021-03-23T03:53:12.474748Z",
     "shell.execute_reply": "2021-03-23T03:53:12.475261Z"
    },
    "papermill": {
     "duration": 0.217167,
     "end_time": "2021-03-23T03:53:12.475492",
     "exception": false,
     "start_time": "2021-03-23T03:53:12.258325",
     "status": "completed"
    },
    "tags": []
   },
   "outputs": [
    {
     "data": {
      "text/plain": [
       "(array([16., 20., 10., 17., 35., 37., 11., 24., 14., 16.]),\n",
       " array([ 1. , 10.8, 20.6, 30.4, 40.2, 50. , 59.8, 69.6, 79.4, 89.2, 99. ]),\n",
       " <BarContainer object of 10 artists>)"
      ]
     },
     "execution_count": 19,
     "metadata": {},
     "output_type": "execute_result"
    },
    {
     "data": {
      "image/png": "[encoded data removed]",
      "text/plain": [
       "<Figure size 432x288 with 1 Axes>"
      ]
     },
     "metadata": {
      "needs_background": "light"
     },
     "output_type": "display_data"
    }
   ],
   "source": [
    "plt.hist('Spending Score (1-100)', data=Customer, color='blue')"
   ]
  },
  {
   "cell_type": "markdown",
   "metadata": {
    "papermill": {
     "duration": 0.048984,
     "end_time": "2021-03-23T03:53:12.572629",
     "exception": false,
     "start_time": "2021-03-23T03:53:12.523645",
     "status": "completed"
    },
    "tags": []
   },
   "source": [
    "The spending score is mainly between 40 to 60. There are also a lot of customer on really high side and really high side."
   ]
  },
  {
   "cell_type": "markdown",
   "metadata": {
    "papermill": {
     "duration": 0.046604,
     "end_time": "2021-03-23T03:53:12.667274",
     "exception": false,
     "start_time": "2021-03-23T03:53:12.620670",
     "status": "completed"
    },
    "tags": []
   },
   "source": [
    "# <font color='blue'> 6. Convert categorical variables to numerical variables using one hot encoding."
   ]
  },
  {
   "cell_type": "code",
   "execution_count": 20,
   "metadata": {
    "execution": {
     "iopub.execute_input": "2021-03-23T03:53:12.766164Z",
     "iopub.status.busy": "2021-03-23T03:53:12.765192Z",
     "iopub.status.idle": "2021-03-23T03:53:12.768659Z",
     "shell.execute_reply": "2021-03-23T03:53:12.769227Z"
    },
    "papermill": {
     "duration": 0.05489,
     "end_time": "2021-03-23T03:53:12.769416",
     "exception": false,
     "start_time": "2021-03-23T03:53:12.714526",
     "status": "completed"
    },
    "tags": []
   },
   "outputs": [],
   "source": [
    "# from sklearn.preprocessing import LabelEncoder\n",
    "# le = LabelEncoder()\n",
    "\n",
    "# X_enc = Customer['Gender'].copy()\n",
    "# Customer = Customer.drop('Gender', axis = 1)\n",
    "# X_enc=le.fit_transform(X_enc)\n",
    "\n",
    "# Customer = pd.concat([Customer, X_enc], axis = 1)\n",
    "\n",
    "# Customer"
   ]
  },
  {
   "cell_type": "code",
   "execution_count": 21,
   "metadata": {
    "execution": {
     "iopub.execute_input": "2021-03-23T03:53:12.867795Z",
     "iopub.status.busy": "2021-03-23T03:53:12.866854Z",
     "iopub.status.idle": "2021-03-23T03:53:12.881034Z",
     "shell.execute_reply": "2021-03-23T03:53:12.881499Z"
    },
    "papermill": {
     "duration": 0.065012,
     "end_time": "2021-03-23T03:53:12.881682",
     "exception": false,
     "start_time": "2021-03-23T03:53:12.816670",
     "status": "completed"
    },
    "tags": []
   },
   "outputs": [
    {
     "data": {
      "text/html": [
       "<div>\n",
       "<style scoped>\n",
       "    .dataframe tbody tr th:only-of-type {\n",
       "        vertical-align: middle;\n",
       "    }\n",
       "\n",
       "    .dataframe tbody tr th {\n",
       "        vertical-align: top;\n",
       "    }\n",
       "\n",
       "    .dataframe thead th {\n",
       "        text-align: right;\n",
       "    }\n",
       "</style>\n",
       "<table border=\"1\" class=\"dataframe\">\n",
       "  <thead>\n",
       "    <tr style=\"text-align: right;\">\n",
       "      <th></th>\n",
       "      <th>Gender</th>\n",
       "      <th>Age</th>\n",
       "      <th>Annual Income (k$)</th>\n",
       "      <th>Spending Score (1-100)</th>\n",
       "    </tr>\n",
       "  </thead>\n",
       "  <tbody>\n",
       "    <tr>\n",
       "      <th>0</th>\n",
       "      <td>Male</td>\n",
       "      <td>19</td>\n",
       "      <td>15</td>\n",
       "      <td>39</td>\n",
       "    </tr>\n",
       "    <tr>\n",
       "      <th>1</th>\n",
       "      <td>Male</td>\n",
       "      <td>21</td>\n",
       "      <td>15</td>\n",
       "      <td>81</td>\n",
       "    </tr>\n",
       "    <tr>\n",
       "      <th>2</th>\n",
       "      <td>Female</td>\n",
       "      <td>20</td>\n",
       "      <td>16</td>\n",
       "      <td>6</td>\n",
       "    </tr>\n",
       "    <tr>\n",
       "      <th>3</th>\n",
       "      <td>Female</td>\n",
       "      <td>23</td>\n",
       "      <td>16</td>\n",
       "      <td>77</td>\n",
       "    </tr>\n",
       "    <tr>\n",
       "      <th>4</th>\n",
       "      <td>Female</td>\n",
       "      <td>31</td>\n",
       "      <td>17</td>\n",
       "      <td>40</td>\n",
       "    </tr>\n",
       "    <tr>\n",
       "      <th>...</th>\n",
       "      <td>...</td>\n",
       "      <td>...</td>\n",
       "      <td>...</td>\n",
       "      <td>...</td>\n",
       "    </tr>\n",
       "    <tr>\n",
       "      <th>195</th>\n",
       "      <td>Female</td>\n",
       "      <td>35</td>\n",
       "      <td>120</td>\n",
       "      <td>79</td>\n",
       "    </tr>\n",
       "    <tr>\n",
       "      <th>196</th>\n",
       "      <td>Female</td>\n",
       "      <td>45</td>\n",
       "      <td>126</td>\n",
       "      <td>28</td>\n",
       "    </tr>\n",
       "    <tr>\n",
       "      <th>197</th>\n",
       "      <td>Male</td>\n",
       "      <td>32</td>\n",
       "      <td>126</td>\n",
       "      <td>74</td>\n",
       "    </tr>\n",
       "    <tr>\n",
       "      <th>198</th>\n",
       "      <td>Male</td>\n",
       "      <td>32</td>\n",
       "      <td>137</td>\n",
       "      <td>18</td>\n",
       "    </tr>\n",
       "    <tr>\n",
       "      <th>199</th>\n",
       "      <td>Male</td>\n",
       "      <td>30</td>\n",
       "      <td>137</td>\n",
       "      <td>83</td>\n",
       "    </tr>\n",
       "  </tbody>\n",
       "</table>\n",
       "<p>200 rows × 4 columns</p>\n",
       "</div>"
      ],
      "text/plain": [
       "     Gender  Age  Annual Income (k$)  Spending Score (1-100)\n",
       "0      Male   19                  15                      39\n",
       "1      Male   21                  15                      81\n",
       "2    Female   20                  16                       6\n",
       "3    Female   23                  16                      77\n",
       "4    Female   31                  17                      40\n",
       "..      ...  ...                 ...                     ...\n",
       "195  Female   35                 120                      79\n",
       "196  Female   45                 126                      28\n",
       "197    Male   32                 126                      74\n",
       "198    Male   32                 137                      18\n",
       "199    Male   30                 137                      83\n",
       "\n",
       "[200 rows x 4 columns]"
      ]
     },
     "execution_count": 21,
     "metadata": {},
     "output_type": "execute_result"
    }
   ],
   "source": [
    "Customer"
   ]
  },
  {
   "cell_type": "code",
   "execution_count": 22,
   "metadata": {
    "execution": {
     "iopub.execute_input": "2021-03-23T03:53:12.981476Z",
     "iopub.status.busy": "2021-03-23T03:53:12.980553Z",
     "iopub.status.idle": "2021-03-23T03:53:12.986119Z",
     "shell.execute_reply": "2021-03-23T03:53:12.985533Z"
    },
    "papermill": {
     "duration": 0.056643,
     "end_time": "2021-03-23T03:53:12.986261",
     "exception": false,
     "start_time": "2021-03-23T03:53:12.929618",
     "status": "completed"
    },
    "tags": []
   },
   "outputs": [],
   "source": [
    "# #one hod encoding for categorical features\n",
    "# from sklearn.preprocessing import OneHotEncoder\n",
    "# enc = OneHotEncoder()\n",
    "\n",
    "# # passing bridge-types-cat column (label encoded values of bridge_types)\n",
    "# enc_df = pd.DataFrame(enc.fit_transform(Customer[['Gender']]).toarray())\n",
    "# # merge with main df age_df on key values\n",
    "# Customer_df = Customer.join(enc_df)\n",
    "# Customer_df.head()\n",
    "# Customer_df.corr() "
   ]
  },
  {
   "cell_type": "code",
   "execution_count": 23,
   "metadata": {
    "execution": {
     "iopub.execute_input": "2021-03-23T03:53:13.088585Z",
     "iopub.status.busy": "2021-03-23T03:53:13.087768Z",
     "iopub.status.idle": "2021-03-23T03:53:13.090778Z",
     "shell.execute_reply": "2021-03-23T03:53:13.091262Z"
    },
    "papermill": {
     "duration": 0.057087,
     "end_time": "2021-03-23T03:53:13.091479",
     "exception": false,
     "start_time": "2021-03-23T03:53:13.034392",
     "status": "completed"
    },
    "tags": []
   },
   "outputs": [],
   "source": [
    "# age_df"
   ]
  },
  {
   "cell_type": "code",
   "execution_count": 24,
   "metadata": {
    "execution": {
     "iopub.execute_input": "2021-03-23T03:53:13.195445Z",
     "iopub.status.busy": "2021-03-23T03:53:13.194677Z",
     "iopub.status.idle": "2021-03-23T03:53:13.198765Z",
     "shell.execute_reply": "2021-03-23T03:53:13.198188Z"
    },
    "papermill": {
     "duration": 0.058236,
     "end_time": "2021-03-23T03:53:13.198977",
     "exception": false,
     "start_time": "2021-03-23T03:53:13.140741",
     "status": "completed"
    },
    "tags": []
   },
   "outputs": [],
   "source": [
    "# from sklearn.preprocessing import OneHotEncoder\n",
    "# onehotencoder=OneHotEncoder(categories='auto')\n",
    "\n",
    "# Customer['Gender']=onehotencoder.fit_transform(Customer['Gender']).toarray()"
   ]
  },
  {
   "cell_type": "code",
   "execution_count": 25,
   "metadata": {
    "execution": {
     "iopub.execute_input": "2021-03-23T03:53:13.303244Z",
     "iopub.status.busy": "2021-03-23T03:53:13.302462Z",
     "iopub.status.idle": "2021-03-23T03:53:13.306548Z",
     "shell.execute_reply": "2021-03-23T03:53:13.307134Z"
    },
    "papermill": {
     "duration": 0.058324,
     "end_time": "2021-03-23T03:53:13.307361",
     "exception": false,
     "start_time": "2021-03-23T03:53:13.249037",
     "status": "completed"
    },
    "tags": []
   },
   "outputs": [],
   "source": [
    "def Gender(x):\n",
    "    if x =='Female':\n",
    "        return 1\n",
    "    else:\n",
    "        return 0"
   ]
  },
  {
   "cell_type": "code",
   "execution_count": 26,
   "metadata": {
    "execution": {
     "iopub.execute_input": "2021-03-23T03:53:13.411031Z",
     "iopub.status.busy": "2021-03-23T03:53:13.410261Z",
     "iopub.status.idle": "2021-03-23T03:53:13.415320Z",
     "shell.execute_reply": "2021-03-23T03:53:13.415862Z"
    },
    "papermill": {
     "duration": 0.058831,
     "end_time": "2021-03-23T03:53:13.416100",
     "exception": false,
     "start_time": "2021-03-23T03:53:13.357269",
     "status": "completed"
    },
    "tags": []
   },
   "outputs": [],
   "source": [
    "Customer['Gender']=Customer['Gender'].apply(Gender)"
   ]
  },
  {
   "cell_type": "code",
   "execution_count": 27,
   "metadata": {
    "execution": {
     "iopub.execute_input": "2021-03-23T03:53:13.520010Z",
     "iopub.status.busy": "2021-03-23T03:53:13.519308Z",
     "iopub.status.idle": "2021-03-23T03:53:13.531072Z",
     "shell.execute_reply": "2021-03-23T03:53:13.531607Z"
    },
    "papermill": {
     "duration": 0.065374,
     "end_time": "2021-03-23T03:53:13.531829",
     "exception": false,
     "start_time": "2021-03-23T03:53:13.466455",
     "status": "completed"
    },
    "tags": []
   },
   "outputs": [
    {
     "data": {
      "text/html": [
       "<div>\n",
       "<style scoped>\n",
       "    .dataframe tbody tr th:only-of-type {\n",
       "        vertical-align: middle;\n",
       "    }\n",
       "\n",
       "    .dataframe tbody tr th {\n",
       "        vertical-align: top;\n",
       "    }\n",
       "\n",
       "    .dataframe thead th {\n",
       "        text-align: right;\n",
       "    }\n",
       "</style>\n",
       "<table border=\"1\" class=\"dataframe\">\n",
       "  <thead>\n",
       "    <tr style=\"text-align: right;\">\n",
       "      <th></th>\n",
       "      <th>Gender</th>\n",
       "      <th>Age</th>\n",
       "      <th>Annual Income (k$)</th>\n",
       "      <th>Spending Score (1-100)</th>\n",
       "    </tr>\n",
       "  </thead>\n",
       "  <tbody>\n",
       "    <tr>\n",
       "      <th>0</th>\n",
       "      <td>0</td>\n",
       "      <td>19</td>\n",
       "      <td>15</td>\n",
       "      <td>39</td>\n",
       "    </tr>\n",
       "    <tr>\n",
       "      <th>1</th>\n",
       "      <td>0</td>\n",
       "      <td>21</td>\n",
       "      <td>15</td>\n",
       "      <td>81</td>\n",
       "    </tr>\n",
       "    <tr>\n",
       "      <th>2</th>\n",
       "      <td>1</td>\n",
       "      <td>20</td>\n",
       "      <td>16</td>\n",
       "      <td>6</td>\n",
       "    </tr>\n",
       "    <tr>\n",
       "      <th>3</th>\n",
       "      <td>1</td>\n",
       "      <td>23</td>\n",
       "      <td>16</td>\n",
       "      <td>77</td>\n",
       "    </tr>\n",
       "    <tr>\n",
       "      <th>4</th>\n",
       "      <td>1</td>\n",
       "      <td>31</td>\n",
       "      <td>17</td>\n",
       "      <td>40</td>\n",
       "    </tr>\n",
       "    <tr>\n",
       "      <th>...</th>\n",
       "      <td>...</td>\n",
       "      <td>...</td>\n",
       "      <td>...</td>\n",
       "      <td>...</td>\n",
       "    </tr>\n",
       "    <tr>\n",
       "      <th>195</th>\n",
       "      <td>1</td>\n",
       "      <td>35</td>\n",
       "      <td>120</td>\n",
       "      <td>79</td>\n",
       "    </tr>\n",
       "    <tr>\n",
       "      <th>196</th>\n",
       "      <td>1</td>\n",
       "      <td>45</td>\n",
       "      <td>126</td>\n",
       "      <td>28</td>\n",
       "    </tr>\n",
       "    <tr>\n",
       "      <th>197</th>\n",
       "      <td>0</td>\n",
       "      <td>32</td>\n",
       "      <td>126</td>\n",
       "      <td>74</td>\n",
       "    </tr>\n",
       "    <tr>\n",
       "      <th>198</th>\n",
       "      <td>0</td>\n",
       "      <td>32</td>\n",
       "      <td>137</td>\n",
       "      <td>18</td>\n",
       "    </tr>\n",
       "    <tr>\n",
       "      <th>199</th>\n",
       "      <td>0</td>\n",
       "      <td>30</td>\n",
       "      <td>137</td>\n",
       "      <td>83</td>\n",
       "    </tr>\n",
       "  </tbody>\n",
       "</table>\n",
       "<p>200 rows × 4 columns</p>\n",
       "</div>"
      ],
      "text/plain": [
       "     Gender  Age  Annual Income (k$)  Spending Score (1-100)\n",
       "0         0   19                  15                      39\n",
       "1         0   21                  15                      81\n",
       "2         1   20                  16                       6\n",
       "3         1   23                  16                      77\n",
       "4         1   31                  17                      40\n",
       "..      ...  ...                 ...                     ...\n",
       "195       1   35                 120                      79\n",
       "196       1   45                 126                      28\n",
       "197       0   32                 126                      74\n",
       "198       0   32                 137                      18\n",
       "199       0   30                 137                      83\n",
       "\n",
       "[200 rows x 4 columns]"
      ]
     },
     "execution_count": 27,
     "metadata": {},
     "output_type": "execute_result"
    }
   ],
   "source": [
    "Customer"
   ]
  },
  {
   "cell_type": "markdown",
   "metadata": {
    "papermill": {
     "duration": 0.050125,
     "end_time": "2021-03-23T03:53:13.632712",
     "exception": false,
     "start_time": "2021-03-23T03:53:13.582587",
     "status": "completed"
    },
    "tags": []
   },
   "source": [
    "# <font color='blue'> 7. Cluster your data using k-means clustering. Explain how you choose the value of k."
   ]
  },
  {
   "cell_type": "code",
   "execution_count": 28,
   "metadata": {
    "execution": {
     "iopub.execute_input": "2021-03-23T03:53:13.736020Z",
     "iopub.status.busy": "2021-03-23T03:53:13.735249Z",
     "iopub.status.idle": "2021-03-23T03:53:14.345695Z",
     "shell.execute_reply": "2021-03-23T03:53:14.344979Z"
    },
    "papermill": {
     "duration": 0.664015,
     "end_time": "2021-03-23T03:53:14.345860",
     "exception": false,
     "start_time": "2021-03-23T03:53:13.681845",
     "status": "completed"
    },
    "tags": []
   },
   "outputs": [
    {
     "data": {
      "text/plain": [
       "KMeans(max_iter=1000, n_clusters=2)"
      ]
     },
     "execution_count": 28,
     "metadata": {},
     "output_type": "execute_result"
    }
   ],
   "source": [
    "from sklearn.cluster import KMeans\n",
    "kmeans = KMeans(2, max_iter=1000)\n",
    "kmeans.fit(Customer)"
   ]
  },
  {
   "cell_type": "code",
   "execution_count": 29,
   "metadata": {
    "execution": {
     "iopub.execute_input": "2021-03-23T03:53:14.454708Z",
     "iopub.status.busy": "2021-03-23T03:53:14.453775Z",
     "iopub.status.idle": "2021-03-23T03:53:14.478884Z",
     "shell.execute_reply": "2021-03-23T03:53:14.478215Z"
    },
    "papermill": {
     "duration": 0.082792,
     "end_time": "2021-03-23T03:53:14.479089",
     "exception": false,
     "start_time": "2021-03-23T03:53:14.396297",
     "status": "completed"
    },
    "tags": []
   },
   "outputs": [],
   "source": [
    "clusters = Customer.copy()\n",
    "clusters['cluster_pred']=kmeans.fit_predict(Customer)"
   ]
  },
  {
   "cell_type": "code",
   "execution_count": 30,
   "metadata": {
    "execution": {
     "iopub.execute_input": "2021-03-23T03:53:14.587819Z",
     "iopub.status.busy": "2021-03-23T03:53:14.586771Z",
     "iopub.status.idle": "2021-03-23T03:53:14.591609Z",
     "shell.execute_reply": "2021-03-23T03:53:14.590931Z"
    },
    "papermill": {
     "duration": 0.061678,
     "end_time": "2021-03-23T03:53:14.591773",
     "exception": false,
     "start_time": "2021-03-23T03:53:14.530095",
     "status": "completed"
    },
    "tags": []
   },
   "outputs": [
    {
     "data": {
      "text/plain": [
       "array([[ 0.52293578, 37.60550459, 79.78899083, 50.08256881],\n",
       "       [ 0.6043956 , 40.34065934, 37.52747253, 50.34065934]])"
      ]
     },
     "execution_count": 30,
     "metadata": {},
     "output_type": "execute_result"
    }
   ],
   "source": [
    "centroids = kmeans.cluster_centers_\n",
    "centroids"
   ]
  },
  {
   "cell_type": "markdown",
   "metadata": {
    "papermill": {
     "duration": 0.05,
     "end_time": "2021-03-23T03:53:14.694463",
     "exception": false,
     "start_time": "2021-03-23T03:53:14.644463",
     "status": "completed"
    },
    "tags": []
   },
   "source": [
    "**Use Elbow method to compute optimal # of clusters**"
   ]
  },
  {
   "cell_type": "code",
   "execution_count": 31,
   "metadata": {
    "execution": {
     "iopub.execute_input": "2021-03-23T03:53:14.804504Z",
     "iopub.status.busy": "2021-03-23T03:53:14.803368Z",
     "iopub.status.idle": "2021-03-23T03:53:15.220502Z",
     "shell.execute_reply": "2021-03-23T03:53:15.221019Z"
    },
    "papermill": {
     "duration": 0.476513,
     "end_time": "2021-03-23T03:53:15.221228",
     "exception": false,
     "start_time": "2021-03-23T03:53:14.744715",
     "status": "completed"
    },
    "tags": []
   },
   "outputs": [
    {
     "name": "stdout",
     "output_type": "stream",
     "text": [
      "# of clusters:1 => 308862.06000000006\n",
      "# of clusters:2 => 212889.44245524294\n",
      "# of clusters:3 => 143391.59236035674\n",
      "# of clusters:4 => 104414.67534220174\n",
      "# of clusters:5 => 75528.58656469136\n",
      "# of clusters:6 => 58348.64136331505\n",
      "# of clusters:7 => 51130.690081263754\n",
      "# of clusters:8 => 44389.80767355767\n",
      "# of clusters:9 => 40891.680830865036\n"
     ]
    }
   ],
   "source": [
    "wcss =[]\n",
    "\n",
    "max_clusters = 10\n",
    "for i in range(1,max_clusters):\n",
    "    kmeans = KMeans(i)\n",
    "    kmeans.fit(Customer)\n",
    "    wcss.append(kmeans.inertia_)\n",
    "    \n",
    "for index, wcss_val in enumerate(wcss):\n",
    "    print(f'# of clusters:{index+1} => {wcss_val}')"
   ]
  },
  {
   "cell_type": "code",
   "execution_count": 32,
   "metadata": {
    "execution": {
     "iopub.execute_input": "2021-03-23T03:53:15.351766Z",
     "iopub.status.busy": "2021-03-23T03:53:15.348361Z",
     "iopub.status.idle": "2021-03-23T03:53:15.537898Z",
     "shell.execute_reply": "2021-03-23T03:53:15.538487Z"
    },
    "papermill": {
     "duration": 0.266518,
     "end_time": "2021-03-23T03:53:15.538694",
     "exception": false,
     "start_time": "2021-03-23T03:53:15.272176",
     "status": "completed"
    },
    "tags": []
   },
   "outputs": [
    {
     "data": {
      "image/png": "[encoded data removed]",
      "text/plain": [
       "<Figure size 1080x720 with 1 Axes>"
      ]
     },
     "metadata": {
      "needs_background": "light"
     },
     "output_type": "display_data"
    }
   ],
   "source": [
    "plt.figure(figsize=(15, 10))\n",
    "plt.plot(range(1,max_clusters),wcss)\n",
    "plt.xlabel('Number of clusters')\n",
    "plt.ylabel('Within-cluster Sum of Squares')\n",
    "plt.grid()"
   ]
  },
  {
   "cell_type": "markdown",
   "metadata": {
    "papermill": {
     "duration": 0.054566,
     "end_time": "2021-03-23T03:53:15.646820",
     "exception": false,
     "start_time": "2021-03-23T03:53:15.592254",
     "status": "completed"
    },
    "tags": []
   },
   "source": [
    "I choose k=5 based on the elbow test."
   ]
  },
  {
   "cell_type": "code",
   "execution_count": 33,
   "metadata": {
    "execution": {
     "iopub.execute_input": "2021-03-23T03:53:15.762730Z",
     "iopub.status.busy": "2021-03-23T03:53:15.762058Z",
     "iopub.status.idle": "2021-03-23T03:53:15.833619Z",
     "shell.execute_reply": "2021-03-23T03:53:15.833018Z"
    },
    "papermill": {
     "duration": 0.133554,
     "end_time": "2021-03-23T03:53:15.833799",
     "exception": false,
     "start_time": "2021-03-23T03:53:15.700245",
     "status": "completed"
    },
    "tags": []
   },
   "outputs": [],
   "source": [
    "kmeans_new = KMeans(5, max_iter=1000)\n",
    "kmeans_new.fit(Customer)\n",
    "clusters_new = Customer.copy()\n",
    "clusters_new['cluster_pred'] = kmeans_new.fit_predict(Customer)"
   ]
  },
  {
   "cell_type": "code",
   "execution_count": 34,
   "metadata": {
    "execution": {
     "iopub.execute_input": "2021-03-23T03:53:15.951279Z",
     "iopub.status.busy": "2021-03-23T03:53:15.950477Z",
     "iopub.status.idle": "2021-03-23T03:53:15.955709Z",
     "shell.execute_reply": "2021-03-23T03:53:15.955101Z"
    },
    "papermill": {
     "duration": 0.069096,
     "end_time": "2021-03-23T03:53:15.955861",
     "exception": false,
     "start_time": "2021-03-23T03:53:15.886765",
     "status": "completed"
    },
    "tags": []
   },
   "outputs": [
    {
     "data": {
      "text/plain": [
       "1    79\n",
       "2    39\n",
       "0    36\n",
       "3    23\n",
       "4    23\n",
       "Name: cluster_pred, dtype: int64"
      ]
     },
     "execution_count": 34,
     "metadata": {},
     "output_type": "execute_result"
    }
   ],
   "source": [
    "clusters_new.cluster_pred.value_counts()"
   ]
  },
  {
   "cell_type": "markdown",
   "metadata": {
    "papermill": {
     "duration": 0.052272,
     "end_time": "2021-03-23T03:53:16.060488",
     "exception": false,
     "start_time": "2021-03-23T03:53:16.008216",
     "status": "completed"
    },
    "tags": []
   },
   "source": [
    "# <font color='blue'> 8. Explain each of your clusters in terms of all its attributes (use visualizations to explain better)."
   ]
  },
  {
   "cell_type": "code",
   "execution_count": 35,
   "metadata": {
    "execution": {
     "iopub.execute_input": "2021-03-23T03:53:16.180984Z",
     "iopub.status.busy": "2021-03-23T03:53:16.180159Z",
     "iopub.status.idle": "2021-03-23T03:53:16.185665Z",
     "shell.execute_reply": "2021-03-23T03:53:16.184923Z"
    },
    "papermill": {
     "duration": 0.069897,
     "end_time": "2021-03-23T03:53:16.185829",
     "exception": false,
     "start_time": "2021-03-23T03:53:16.115932",
     "status": "completed"
    },
    "tags": []
   },
   "outputs": [
    {
     "data": {
      "text/html": [
       "<div>\n",
       "<style scoped>\n",
       "    .dataframe tbody tr th:only-of-type {\n",
       "        vertical-align: middle;\n",
       "    }\n",
       "\n",
       "    .dataframe tbody tr th {\n",
       "        vertical-align: top;\n",
       "    }\n",
       "\n",
       "    .dataframe thead th {\n",
       "        text-align: right;\n",
       "    }\n",
       "</style>\n",
       "<table border=\"1\" class=\"dataframe\">\n",
       "  <thead>\n",
       "    <tr style=\"text-align: right;\">\n",
       "      <th></th>\n",
       "      <th>Gender</th>\n",
       "      <th>Age</th>\n",
       "      <th>Annual Income (k$)</th>\n",
       "      <th>Spending Score (1-100)</th>\n",
       "    </tr>\n",
       "  </thead>\n",
       "  <tbody>\n",
       "    <tr>\n",
       "      <th>0</th>\n",
       "      <td>0</td>\n",
       "      <td>19</td>\n",
       "      <td>15</td>\n",
       "      <td>39</td>\n",
       "    </tr>\n",
       "    <tr>\n",
       "      <th>1</th>\n",
       "      <td>0</td>\n",
       "      <td>21</td>\n",
       "      <td>15</td>\n",
       "      <td>81</td>\n",
       "    </tr>\n",
       "    <tr>\n",
       "      <th>2</th>\n",
       "      <td>1</td>\n",
       "      <td>20</td>\n",
       "      <td>16</td>\n",
       "      <td>6</td>\n",
       "    </tr>\n",
       "    <tr>\n",
       "      <th>3</th>\n",
       "      <td>1</td>\n",
       "      <td>23</td>\n",
       "      <td>16</td>\n",
       "      <td>77</td>\n",
       "    </tr>\n",
       "    <tr>\n",
       "      <th>4</th>\n",
       "      <td>1</td>\n",
       "      <td>31</td>\n",
       "      <td>17</td>\n",
       "      <td>40</td>\n",
       "    </tr>\n",
       "    <tr>\n",
       "      <th>...</th>\n",
       "      <td>...</td>\n",
       "      <td>...</td>\n",
       "      <td>...</td>\n",
       "      <td>...</td>\n",
       "    </tr>\n",
       "    <tr>\n",
       "      <th>195</th>\n",
       "      <td>1</td>\n",
       "      <td>35</td>\n",
       "      <td>120</td>\n",
       "      <td>79</td>\n",
       "    </tr>\n",
       "    <tr>\n",
       "      <th>196</th>\n",
       "      <td>1</td>\n",
       "      <td>45</td>\n",
       "      <td>126</td>\n",
       "      <td>28</td>\n",
       "    </tr>\n",
       "    <tr>\n",
       "      <th>197</th>\n",
       "      <td>0</td>\n",
       "      <td>32</td>\n",
       "      <td>126</td>\n",
       "      <td>74</td>\n",
       "    </tr>\n",
       "    <tr>\n",
       "      <th>198</th>\n",
       "      <td>0</td>\n",
       "      <td>32</td>\n",
       "      <td>137</td>\n",
       "      <td>18</td>\n",
       "    </tr>\n",
       "    <tr>\n",
       "      <th>199</th>\n",
       "      <td>0</td>\n",
       "      <td>30</td>\n",
       "      <td>137</td>\n",
       "      <td>83</td>\n",
       "    </tr>\n",
       "  </tbody>\n",
       "</table>\n",
       "<p>200 rows × 4 columns</p>\n",
       "</div>"
      ],
      "text/plain": [
       "     Gender  Age  Annual Income (k$)  Spending Score (1-100)\n",
       "0         0   19                  15                      39\n",
       "1         0   21                  15                      81\n",
       "2         1   20                  16                       6\n",
       "3         1   23                  16                      77\n",
       "4         1   31                  17                      40\n",
       "..      ...  ...                 ...                     ...\n",
       "195       1   35                 120                      79\n",
       "196       1   45                 126                      28\n",
       "197       0   32                 126                      74\n",
       "198       0   32                 137                      18\n",
       "199       0   30                 137                      83\n",
       "\n",
       "[200 rows x 4 columns]"
      ]
     },
     "execution_count": 35,
     "metadata": {},
     "output_type": "execute_result"
    }
   ],
   "source": [
    "Customer"
   ]
  },
  {
   "cell_type": "code",
   "execution_count": 36,
   "metadata": {
    "execution": {
     "iopub.execute_input": "2021-03-23T03:53:16.327628Z",
     "iopub.status.busy": "2021-03-23T03:53:16.299523Z",
     "iopub.status.idle": "2021-03-23T03:53:16.701750Z",
     "shell.execute_reply": "2021-03-23T03:53:16.701081Z"
    },
    "papermill": {
     "duration": 0.462891,
     "end_time": "2021-03-23T03:53:16.701908",
     "exception": false,
     "start_time": "2021-03-23T03:53:16.239017",
     "status": "completed"
    },
    "tags": []
   },
   "outputs": [
    {
     "data": {
      "text/plain": [
       "Text(0.5, 1.0, 'Age vs Spending Score')"
      ]
     },
     "execution_count": 36,
     "metadata": {},
     "output_type": "execute_result"
    },
    {
     "data": {
      "image/png": "[encoded data removed]",
      "text/plain": [
       "<Figure size 432x288 with 1 Axes>"
      ]
     },
     "metadata": {
      "needs_background": "light"
     },
     "output_type": "display_data"
    }
   ],
   "source": [
    "sns.scatterplot(data=clusters_new, x='Age', y='Spending Score (1-100)', hue='cluster_pred', style='Gender', palette='colorblind')\n",
    "plt.title('Age vs Spending Score')"
   ]
  },
  {
   "cell_type": "code",
   "execution_count": 37,
   "metadata": {
    "execution": {
     "iopub.execute_input": "2021-03-23T03:53:16.828342Z",
     "iopub.status.busy": "2021-03-23T03:53:16.826901Z",
     "iopub.status.idle": "2021-03-23T03:53:17.197259Z",
     "shell.execute_reply": "2021-03-23T03:53:17.196516Z"
    },
    "papermill": {
     "duration": 0.43987,
     "end_time": "2021-03-23T03:53:17.197438",
     "exception": false,
     "start_time": "2021-03-23T03:53:16.757568",
     "status": "completed"
    },
    "tags": []
   },
   "outputs": [
    {
     "data": {
      "text/plain": [
       "Text(0.5, 1.0, 'Age vs Annual Income')"
      ]
     },
     "execution_count": 37,
     "metadata": {},
     "output_type": "execute_result"
    },
    {
     "data": {
      "image/png": "[encoded data removed]",
      "text/plain": [
       "<Figure size 432x288 with 1 Axes>"
      ]
     },
     "metadata": {
      "needs_background": "light"
     },
     "output_type": "display_data"
    }
   ],
   "source": [
    "sns.scatterplot(data=clusters_new, x='Age', y='Annual Income (k$)', hue='cluster_pred', style= 'Gender',  palette='colorblind')\n",
    "plt.title('Age vs Annual Income')"
   ]
  },
  {
   "cell_type": "markdown",
   "metadata": {
    "papermill": {
     "duration": 0.057964,
     "end_time": "2021-03-23T03:53:17.314230",
     "exception": false,
     "start_time": "2021-03-23T03:53:17.256266",
     "status": "completed"
    },
    "tags": []
   },
   "source": [
    "0- poor Kids\n",
    "\n",
    "1- Middel Class\n",
    "\n",
    "2- Rich\n",
    "\n",
    "3- Lower income class--not target\n",
    "\n",
    "4- Young Rich people"
   ]
  },
  {
   "cell_type": "code",
   "execution_count": 38,
   "metadata": {
    "execution": {
     "iopub.execute_input": "2021-03-23T03:53:17.446610Z",
     "iopub.status.busy": "2021-03-23T03:53:17.444910Z",
     "iopub.status.idle": "2021-03-23T03:53:17.945038Z",
     "shell.execute_reply": "2021-03-23T03:53:17.944363Z"
    },
    "papermill": {
     "duration": 0.572305,
     "end_time": "2021-03-23T03:53:17.945195",
     "exception": false,
     "start_time": "2021-03-23T03:53:17.372890",
     "status": "completed"
    },
    "tags": []
   },
   "outputs": [
    {
     "data": {
      "text/plain": [
       "Text(0.5, 1.0, 'Annual Income vs Spending Score')"
      ]
     },
     "execution_count": 38,
     "metadata": {},
     "output_type": "execute_result"
    },
    {
     "data": {
      "image/png": "[encoded data removed]",
      "text/plain": [
       "<Figure size 432x288 with 1 Axes>"
      ]
     },
     "metadata": {
      "needs_background": "light"
     },
     "output_type": "display_data"
    }
   ],
   "source": [
    "sns.scatterplot(data=clusters_new, x='Annual Income (k$)', y='Spending Score (1-100)', hue='cluster_pred', style='Gender', palette='colorblind')\n",
    "plt.title('Annual Income vs Spending Score')"
   ]
  },
  {
   "cell_type": "markdown",
   "metadata": {
    "papermill": {
     "duration": 0.059364,
     "end_time": "2021-03-23T03:53:18.064144",
     "exception": false,
     "start_time": "2021-03-23T03:53:18.004780",
     "status": "completed"
    },
    "tags": []
   },
   "source": [
    "**0- Irrational consumer--Target**\n",
    "\n",
    "1- Rational Consumer\n",
    "\n",
    "2- Temperate Consumer\n",
    "\n",
    "3- Short of Money Consumer\n",
    "\n",
    "**4- Rich Consumer--Target**"
   ]
  },
  {
   "cell_type": "markdown",
   "metadata": {
    "papermill": {
     "duration": 0.061321,
     "end_time": "2021-03-23T03:53:18.185075",
     "exception": false,
     "start_time": "2021-03-23T03:53:18.123754",
     "status": "completed"
    },
    "tags": []
   },
   "source": [
    "The cluster can be mostly divided with annual income and spending score. Gender does not distinguish much.\n",
    "\n",
    "The target should be customers that have high spending score with low annual income (irrational customer) and high spending score with highn annual income (rich customer)"
   ]
  },
  {
   "cell_type": "code",
   "execution_count": null,
   "metadata": {
    "papermill": {
     "duration": 0.061037,
     "end_time": "2021-03-23T03:53:18.305933",
     "exception": false,
     "start_time": "2021-03-23T03:53:18.244896",
     "status": "completed"
    },
    "tags": []
   },
   "outputs": [],
   "source": []
  }
 ],
 "metadata": {
  "kernelspec": {
   "display_name": "Python 3",
   "language": "python",
   "name": "python3"
  },
  "language_info": {
   "codemirror_mode": {
    "name": "ipython",
    "version": 3
   },
   "file_extension": ".py",
   "mimetype": "text/x-python",
   "name": "python",
   "nbconvert_exporter": "python",
   "pygments_lexer": "ipython3",
   "version": "3.7.9"
  },
  "papermill": {
   "default_parameters": {},
   "duration": 18.427354,
   "end_time": "2021-03-23T03:53:19.077957",
   "environment_variables": {},
   "exception": null,
   "input_path": "__notebook__.ipynb",
   "output_path": "__notebook__.ipynb",
   "parameters": {},
   "start_time": "2021-03-23T03:53:00.650603",
   "version": "2.2.2"
  }
 },
 "nbformat": 4,
 "nbformat_minor": 4
}
